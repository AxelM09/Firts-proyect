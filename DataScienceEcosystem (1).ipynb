{
 "cells": [
  {
   "cell_type": "markdown",
   "id": "57bf813e",
   "metadata": {},
   "source": [
    "# Data Science Tools and Ecosystem"
   ]
  },
  {
   "cell_type": "markdown",
   "id": "befc8899",
   "metadata": {},
   "source": [
    "**In this notebook, the tools and ecosystem of Data Science are summarized.**"
   ]
  },
  {
   "cell_type": "markdown",
   "id": "a430b94f",
   "metadata": {},
   "source": [
    "**Objetives:**\n",
    "1. Create a markdown cell to list data science languages\n",
    "2. Create a markdown cell to list data science libraries\n",
    "3. Create a markdown cell with a table of Data Science tools\n",
    "4. Create a markdown cell introducing arithmetic expression examples\n",
    "5. Create a code cell to convert minutes to hours"
   ]
  },
  {
   "cell_type": "markdown",
   "id": "6bec58fe",
   "metadata": {},
   "source": [
    "**Some of the widely used languages by Data Scientists include:**\n",
    "1. Java\n",
    "2. C++\n",
    "3. Julia"
   ]
  },
  {
   "cell_type": "markdown",
   "id": "a9e4260c",
   "metadata": {},
   "source": [
    "**Data science leverages powerful libraries to process and analyze complex datasets efficiently. Here are three essential libraries for data science:**\n",
    "1. NumPy\n",
    "2. Pandas\n",
    "3. Scikit-learn"
   ]
  },
  {
   "cell_type": "markdown",
   "id": "32e0be57",
   "metadata": {},
   "source": [
    "| Data Science Tools | \n",
    "|--------------------|\n",
    "|Jupyter Notebook | \n",
    "|RStudio | \n",
    "|Apache Zeppelin |\n",
    "\n"
   ]
  },
  {
   "cell_type": "markdown",
   "id": "0b6d7298",
   "metadata": {},
   "source": [
    "### Here are some examples of evaluating arithmetic expressions in Python.\n"
   ]
  },
  {
   "cell_type": "code",
   "execution_count": 1,
   "id": "63fc3c5f",
   "metadata": {},
   "outputs": [
    {
     "data": {
      "text/plain": [
       "17"
      ]
     },
     "execution_count": 1,
     "metadata": {},
     "output_type": "execute_result"
    }
   ],
   "source": [
    "(3*4)+5\n",
    "#This is a basic arithmetic expression for multiplying and then adding integers."
   ]
  },
  {
   "cell_type": "code",
   "execution_count": 3,
   "id": "72dca3ef",
   "metadata": {},
   "outputs": [
    {
     "data": {
      "text/plain": [
       "3.3333333333333335"
      ]
     },
     "execution_count": 3,
     "metadata": {},
     "output_type": "execute_result"
    }
   ],
   "source": [
    "200/60 \n",
    "#This will convert 200 minutes to hours by diving by 60"
   ]
  },
  {
   "cell_type": "markdown",
   "id": "7af979b3",
   "metadata": {},
   "source": [
    "## Author:  \n",
    "Mendez Orozco Axel\n"
   ]
  },
  {
   "cell_type": "code",
   "execution_count": null,
   "id": "5d82efc5",
   "metadata": {},
   "outputs": [],
   "source": []
  }
 ],
 "metadata": {
  "kernelspec": {
   "display_name": "Python 3 (ipykernel)",
   "language": "python",
   "name": "python3"
  },
  "language_info": {
   "codemirror_mode": {
    "name": "ipython",
    "version": 3
   },
   "file_extension": ".py",
   "mimetype": "text/x-python",
   "name": "python",
   "nbconvert_exporter": "python",
   "pygments_lexer": "ipython3",
   "version": "3.11.4"
  }
 },
 "nbformat": 4,
 "nbformat_minor": 5
}
